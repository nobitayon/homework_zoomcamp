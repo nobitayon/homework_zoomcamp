{
 "cells": [
  {
   "cell_type": "code",
   "execution_count": 6,
   "id": "e7d5d766",
   "metadata": {},
   "outputs": [],
   "source": [
    "import numpy as np\n",
    "import pandas as pd\n",
    "import os"
   ]
  },
  {
   "cell_type": "code",
   "execution_count": 4,
   "id": "f468f2c4",
   "metadata": {},
   "outputs": [
    {
     "data": {
      "text/plain": [
       "'1.20.3'"
      ]
     },
     "execution_count": 4,
     "metadata": {},
     "output_type": "execute_result"
    }
   ],
   "source": [
    "#Question 1\n",
    "np.__version__"
   ]
  },
  {
   "cell_type": "code",
   "execution_count": 5,
   "id": "735c55e5",
   "metadata": {},
   "outputs": [
    {
     "data": {
      "text/plain": [
       "'1.3.0'"
      ]
     },
     "execution_count": 5,
     "metadata": {},
     "output_type": "execute_result"
    }
   ],
   "source": [
    "#Question 2\n",
    "pd.__version__"
   ]
  },
  {
   "cell_type": "code",
   "execution_count": 7,
   "id": "451647ed",
   "metadata": {},
   "outputs": [],
   "source": [
    "#read data with pandas\n",
    "\n",
    "price_path=os.path.join(os.getcwd(),'data.csv')\n",
    "\n",
    "price_data=pd.read_csv(price_path)"
   ]
  },
  {
   "cell_type": "code",
   "execution_count": 12,
   "id": "d582e31c",
   "metadata": {},
   "outputs": [
    {
     "data": {
      "text/plain": [
       "61546.76347305389"
      ]
     },
     "execution_count": 12,
     "metadata": {},
     "output_type": "execute_result"
    }
   ],
   "source": [
    "#Question 3\n",
    "\n",
    "price_data[price_data.Make=='BMW'].MSRP.mean()"
   ]
  },
  {
   "cell_type": "code",
   "execution_count": 18,
   "id": "900afc2b",
   "metadata": {},
   "outputs": [
    {
     "data": {
      "text/plain": [
       "3825"
      ]
     },
     "execution_count": 18,
     "metadata": {},
     "output_type": "execute_result"
    }
   ],
   "source": [
    "#Question 4\n",
    "\n",
    "price_data[price_data.Year>2015]['Engine HP'].isnull().shape[0]"
   ]
  },
  {
   "cell_type": "code",
   "execution_count": 21,
   "id": "88822da5",
   "metadata": {},
   "outputs": [
    {
     "name": "stdout",
     "output_type": "stream",
     "text": [
      "249\n",
      "249\n"
     ]
    }
   ],
   "source": [
    "#Question 5\n",
    "\n",
    "mean_hp_before=price_data['Engine HP'].mean()\n",
    "\n",
    "price_data['Engine HP'].fillna(mean_hp_before)\n",
    "\n",
    "mean_hp_after=price_data['Engine HP'].mean()\n",
    "\n",
    "print(round(mean_hp_before))\n",
    "print(round(mean_hp_after))"
   ]
  },
  {
   "cell_type": "code",
   "execution_count": 36,
   "id": "b3ec97c6",
   "metadata": {},
   "outputs": [
    {
     "data": {
      "text/plain": [
       "0.032212320677486195"
      ]
     },
     "execution_count": 36,
     "metadata": {},
     "output_type": "execute_result"
    }
   ],
   "source": [
    "#Question 6\n",
    "new_price_data=price_data[price_data.Make=='Rolls-Royce'].loc[:,['Engine HP','Engine Cylinders','highway MPG']]\n",
    "\n",
    "new_price_data=new_price_data.drop_duplicates()\n",
    "\n",
    "X=new_price_data.to_numpy()\n",
    "\n",
    "XTX = np.dot(X.T,X)\n",
    "\n",
    "inverse_XTX=np.linalg.inv(XTX)\n",
    "\n",
    "np.sum(inverse_XTX)"
   ]
  },
  {
   "cell_type": "code",
   "execution_count": 38,
   "id": "03164c3d",
   "metadata": {},
   "outputs": [
    {
     "data": {
      "text/plain": [
       "array([ 0.19989598, 31.02612262, 31.65378877])"
      ]
     },
     "execution_count": 38,
     "metadata": {},
     "output_type": "execute_result"
    }
   ],
   "source": [
    "#Question 7\n",
    "\n",
    "y=np.array([1000, 1100, 900, 1200, 1000, 850, 1300])\n",
    "\n",
    "w=np.dot( np.dot(inverse_XTX,X.T) ,  y )\n",
    "w"
   ]
  }
 ],
 "metadata": {
  "kernelspec": {
   "display_name": "Python 3",
   "language": "python",
   "name": "python3"
  },
  "language_info": {
   "codemirror_mode": {
    "name": "ipython",
    "version": 3
   },
   "file_extension": ".py",
   "mimetype": "text/x-python",
   "name": "python",
   "nbconvert_exporter": "python",
   "pygments_lexer": "ipython3",
   "version": "3.8.10"
  }
 },
 "nbformat": 4,
 "nbformat_minor": 5
}
