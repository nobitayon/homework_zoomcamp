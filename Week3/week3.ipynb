{
 "cells": [
  {
   "cell_type": "code",
   "execution_count": 1,
   "id": "65ffce16",
   "metadata": {},
   "outputs": [],
   "source": [
    "import pandas as pd\n",
    "import numpy as np\n",
    "import warnings\n",
    "\n",
    "warnings.filterwarnings('ignore')"
   ]
  },
  {
   "cell_type": "code",
   "execution_count": 2,
   "id": "6c7ff6dc",
   "metadata": {},
   "outputs": [],
   "source": [
    "df=pd.read_csv('AB_NYC_2019.csv')"
   ]
  },
  {
   "cell_type": "code",
   "execution_count": 3,
   "id": "33765aeb",
   "metadata": {},
   "outputs": [
    {
     "data": {
      "text/plain": [
       "neighbourhood_group                object\n",
       "room_type                          object\n",
       "latitude                          float64\n",
       "longitude                         float64\n",
       "price                               int64\n",
       "minimum_nights                      int64\n",
       "number_of_reviews                   int64\n",
       "reviews_per_month                 float64\n",
       "calculated_host_listings_count      int64\n",
       "availability_365                    int64\n",
       "dtype: object"
      ]
     },
     "execution_count": 3,
     "metadata": {},
     "output_type": "execute_result"
    }
   ],
   "source": [
    "col_use=['neighbourhood_group','room_type','latitude','longitude','price','minimum_nights','number_of_reviews','reviews_per_month','calculated_host_listings_count','availability_365']\n",
    "df[col_use].dtypes"
   ]
  },
  {
   "cell_type": "code",
   "execution_count": 4,
   "id": "3099cbf5",
   "metadata": {},
   "outputs": [],
   "source": [
    "categorical=list( df[col_use].dtypes[df[col_use].dtypes=='object'].index )\n",
    "numerical=list( df[col_use].dtypes[(df[col_use].dtypes=='float64') |  (df[col_use].dtypes=='int64') ].index )\n",
    "numerical.remove('price')"
   ]
  },
  {
   "cell_type": "code",
   "execution_count": 5,
   "id": "48539aa3",
   "metadata": {},
   "outputs": [
    {
     "data": {
      "text/plain": [
       "Manhattan        21661\n",
       "Brooklyn         20104\n",
       "Queens            5666\n",
       "Bronx             1091\n",
       "Staten Island      373\n",
       "Name: neighbourhood_group, dtype: int64"
      ]
     },
     "execution_count": 5,
     "metadata": {},
     "output_type": "execute_result"
    }
   ],
   "source": [
    "#Question 1\n",
    "df['neighbourhood_group'].value_counts()"
   ]
  },
  {
   "cell_type": "code",
   "execution_count": 6,
   "id": "941e1281",
   "metadata": {},
   "outputs": [],
   "source": [
    "from sklearn.model_selection import train_test_split"
   ]
  },
  {
   "cell_type": "code",
   "execution_count": 24,
   "id": "565d11a4",
   "metadata": {},
   "outputs": [],
   "source": [
    "np.random.seed(42)\n",
    "df=df.fillna(0)\n",
    "df_full_train,df_test= train_test_split(df,test_size=0.2,random_state=1)\n",
    "df_train,df_val=train_test_split(df_full_train,test_size=0.25,random_state=1)\n",
    "\n",
    "\n",
    "y_train=df_train.price.values\n",
    "y_val=df_val.price.values\n",
    "y_test=df_test.price.values\n",
    "\n",
    "del df_train['price']\n",
    "del df_val['price']\n",
    "del df_test['price']"
   ]
  },
  {
   "cell_type": "code",
   "execution_count": 25,
   "id": "4f88953b",
   "metadata": {},
   "outputs": [
    {
     "data": {
      "text/html": [
       "<div>\n",
       "<style scoped>\n",
       "    .dataframe tbody tr th:only-of-type {\n",
       "        vertical-align: middle;\n",
       "    }\n",
       "\n",
       "    .dataframe tbody tr th {\n",
       "        vertical-align: top;\n",
       "    }\n",
       "\n",
       "    .dataframe thead th {\n",
       "        text-align: right;\n",
       "    }\n",
       "</style>\n",
       "<table border=\"1\" class=\"dataframe\">\n",
       "  <thead>\n",
       "    <tr style=\"text-align: right;\">\n",
       "      <th></th>\n",
       "      <th>latitude</th>\n",
       "      <th>longitude</th>\n",
       "      <th>minimum_nights</th>\n",
       "      <th>number_of_reviews</th>\n",
       "      <th>reviews_per_month</th>\n",
       "      <th>calculated_host_listings_count</th>\n",
       "      <th>availability_365</th>\n",
       "    </tr>\n",
       "  </thead>\n",
       "  <tbody>\n",
       "    <tr>\n",
       "      <th>latitude</th>\n",
       "      <td>1.000000</td>\n",
       "      <td>0.084313</td>\n",
       "      <td>0.019638</td>\n",
       "      <td>-0.020536</td>\n",
       "      <td>-0.025427</td>\n",
       "      <td>0.019039</td>\n",
       "      <td>-0.012974</td>\n",
       "    </tr>\n",
       "    <tr>\n",
       "      <th>longitude</th>\n",
       "      <td>0.084313</td>\n",
       "      <td>1.000000</td>\n",
       "      <td>-0.062937</td>\n",
       "      <td>0.058299</td>\n",
       "      <td>0.136407</td>\n",
       "      <td>-0.117029</td>\n",
       "      <td>0.082892</td>\n",
       "    </tr>\n",
       "    <tr>\n",
       "      <th>minimum_nights</th>\n",
       "      <td>0.019638</td>\n",
       "      <td>-0.062937</td>\n",
       "      <td>1.000000</td>\n",
       "      <td>-0.075564</td>\n",
       "      <td>-0.120368</td>\n",
       "      <td>0.120308</td>\n",
       "      <td>0.140542</td>\n",
       "    </tr>\n",
       "    <tr>\n",
       "      <th>number_of_reviews</th>\n",
       "      <td>-0.020536</td>\n",
       "      <td>0.058299</td>\n",
       "      <td>-0.075564</td>\n",
       "      <td>1.000000</td>\n",
       "      <td>0.599733</td>\n",
       "      <td>-0.072518</td>\n",
       "      <td>0.173308</td>\n",
       "    </tr>\n",
       "    <tr>\n",
       "      <th>reviews_per_month</th>\n",
       "      <td>-0.025427</td>\n",
       "      <td>0.136407</td>\n",
       "      <td>-0.120368</td>\n",
       "      <td>0.599733</td>\n",
       "      <td>1.000000</td>\n",
       "      <td>-0.045017</td>\n",
       "      <td>0.168808</td>\n",
       "    </tr>\n",
       "    <tr>\n",
       "      <th>calculated_host_listings_count</th>\n",
       "      <td>0.019039</td>\n",
       "      <td>-0.117029</td>\n",
       "      <td>0.120308</td>\n",
       "      <td>-0.072518</td>\n",
       "      <td>-0.045017</td>\n",
       "      <td>1.000000</td>\n",
       "      <td>0.229346</td>\n",
       "    </tr>\n",
       "    <tr>\n",
       "      <th>availability_365</th>\n",
       "      <td>-0.012974</td>\n",
       "      <td>0.082892</td>\n",
       "      <td>0.140542</td>\n",
       "      <td>0.173308</td>\n",
       "      <td>0.168808</td>\n",
       "      <td>0.229346</td>\n",
       "      <td>1.000000</td>\n",
       "    </tr>\n",
       "  </tbody>\n",
       "</table>\n",
       "</div>"
      ],
      "text/plain": [
       "                                latitude  longitude  minimum_nights  \\\n",
       "latitude                        1.000000   0.084313        0.019638   \n",
       "longitude                       0.084313   1.000000       -0.062937   \n",
       "minimum_nights                  0.019638  -0.062937        1.000000   \n",
       "number_of_reviews              -0.020536   0.058299       -0.075564   \n",
       "reviews_per_month              -0.025427   0.136407       -0.120368   \n",
       "calculated_host_listings_count  0.019039  -0.117029        0.120308   \n",
       "availability_365               -0.012974   0.082892        0.140542   \n",
       "\n",
       "                                number_of_reviews  reviews_per_month  \\\n",
       "latitude                                -0.020536          -0.025427   \n",
       "longitude                                0.058299           0.136407   \n",
       "minimum_nights                          -0.075564          -0.120368   \n",
       "number_of_reviews                        1.000000           0.599733   \n",
       "reviews_per_month                        0.599733           1.000000   \n",
       "calculated_host_listings_count          -0.072518          -0.045017   \n",
       "availability_365                         0.173308           0.168808   \n",
       "\n",
       "                                calculated_host_listings_count  \\\n",
       "latitude                                              0.019039   \n",
       "longitude                                            -0.117029   \n",
       "minimum_nights                                        0.120308   \n",
       "number_of_reviews                                    -0.072518   \n",
       "reviews_per_month                                    -0.045017   \n",
       "calculated_host_listings_count                        1.000000   \n",
       "availability_365                                      0.229346   \n",
       "\n",
       "                                availability_365  \n",
       "latitude                               -0.012974  \n",
       "longitude                               0.082892  \n",
       "minimum_nights                          0.140542  \n",
       "number_of_reviews                       0.173308  \n",
       "reviews_per_month                       0.168808  \n",
       "calculated_host_listings_count          0.229346  \n",
       "availability_365                        1.000000  "
      ]
     },
     "execution_count": 25,
     "metadata": {},
     "output_type": "execute_result"
    }
   ],
   "source": [
    "#Question 2\n",
    "df_train[numerical].corr()"
   ]
  },
  {
   "cell_type": "code",
   "execution_count": 48,
   "id": "d77163eb",
   "metadata": {},
   "outputs": [
    {
     "name": "stdout",
     "output_type": "stream",
     "text": [
      "correlation beetween calculated_host_listings_count and availability_365 :0.22934634501783852\n",
      "correlation beetween number_of_reviews and availability_365 :0.1733077768589699\n",
      "correlation beetween number_of_reviews and reviews_per_month :0.5997331133807586\n",
      "correlation beetween minimum_nights and calculated_host_listings_count :0.12030751012784173\n"
     ]
    }
   ],
   "source": [
    "case=[['calculated_host_listings_count','availability_365']\n",
    "     ,['number_of_reviews', 'availability_365']\n",
    "     ,['number_of_reviews', 'reviews_per_month']\n",
    "     ,['minimum_nights', 'calculated_host_listings_count']]\n",
    "\n",
    "for i in range(4):\n",
    "    print('correlation beetween %s and %s :'%(case[i][0],case[i][1]) + str( df_train[numerical].corr().loc[case[i][0],case[i][1]] ) )"
   ]
  },
  {
   "cell_type": "code",
   "execution_count": 26,
   "id": "e2d2fcab",
   "metadata": {},
   "outputs": [],
   "source": [
    "#make price binary\n",
    "above_average=(y_train>=152).astype('int')\n",
    "above_average_val=(y_val>=152).astype('int')"
   ]
  },
  {
   "cell_type": "code",
   "execution_count": 27,
   "id": "ee1a5f26",
   "metadata": {},
   "outputs": [
    {
     "name": "stdout",
     "output_type": "stream",
     "text": [
      "neighbourhood_group and binary price: 0.05\n",
      "room_type and binary price: 0.14\n"
     ]
    }
   ],
   "source": [
    "#Question 3\n",
    "from sklearn.metrics import mutual_info_score\n",
    "\n",
    "for col_categorical in categorical:\n",
    "    print('%s'%col_categorical+' and binary price: '+ str( round(mutual_info_score(above_average,df_train[col_categorical]),2)) )\n",
    "          "
   ]
  },
  {
   "cell_type": "code",
   "execution_count": 28,
   "id": "3db27e6e",
   "metadata": {},
   "outputs": [
    {
     "data": {
      "text/plain": [
       "LogisticRegression()"
      ]
     },
     "execution_count": 28,
     "metadata": {},
     "output_type": "execute_result"
    }
   ],
   "source": [
    "#Question 4\n",
    "from sklearn.feature_extraction import DictVectorizer\n",
    "from sklearn.linear_model import LogisticRegression\n",
    "\n",
    "dv=DictVectorizer(sparse=False)\n",
    "\n",
    "train_dicts=df_train[categorical+numerical].to_dict(orient='records')\n",
    "val_dicts=df_val[categorical+numerical].to_dict(orient='records')\n",
    "\n",
    "X_train=dv.fit_transform(train_dicts)\n",
    "X_val=dv.fit_transform(val_dicts)\n",
    "\n",
    "# model=LogisticRegression(solver='lbfgs',C=1,random_state=42)\n",
    "model=LogisticRegression()\n",
    "model.fit(X_train,above_average)\n"
   ]
  },
  {
   "cell_type": "code",
   "execution_count": 29,
   "id": "10407a21",
   "metadata": {},
   "outputs": [
    {
     "name": "stdout",
     "output_type": "stream",
     "text": [
      "0.79\n"
     ]
    }
   ],
   "source": [
    "y_pred=model.predict(X_val)\n",
    "original_accuracy=round( (y_pred==above_average_val).mean() ,2 ) \n",
    "print(original_accuracy)"
   ]
  },
  {
   "cell_type": "code",
   "execution_count": 30,
   "id": "02a587eb",
   "metadata": {},
   "outputs": [],
   "source": [
    "dummy=categorical+numerical\n",
    "dv=DictVectorizer()\n",
    "accuracy=[]\n",
    "for feature_unuse in categorical+numerical:\n",
    "    \n",
    "    dummy.remove(feature_unuse)\n",
    "    train_dicts=df_train[dummy].to_dict(orient='records')\n",
    "    val_dicts=df_val[dummy].to_dict(orient='records')\n",
    "    \n",
    "    X_train=dv.fit_transform(train_dicts)\n",
    "    X_val=dv.fit_transform(val_dicts)\n",
    "    \n",
    "    model=LogisticRegression()\n",
    "    model.fit(X_train,above_average)\n",
    "    \n",
    "    y_pred=model.predict(X_val)\n",
    "    accuracy_now=(y_pred==above_average_val).mean()\n",
    "    \n",
    "    accuracy.append(accuracy_now)\n",
    "    \n",
    "    dummy=categorical+numerical\n",
    "\n",
    "    \n",
    "accuracy=np.array(accuracy) \n",
    "difference=np.abs(original_accuracy-accuracy)"
   ]
  },
  {
   "cell_type": "code",
   "execution_count": 14,
   "id": "3c98bc0b",
   "metadata": {},
   "outputs": [
    {
     "data": {
      "text/plain": [
       "'reviews_per_month'"
      ]
     },
     "execution_count": 14,
     "metadata": {},
     "output_type": "execute_result"
    }
   ],
   "source": [
    "smallest_difference_feature=(categorical+numerical)[ difference.argmin() ]\n",
    "smallest_difference_feature"
   ]
  },
  {
   "cell_type": "code",
   "execution_count": 42,
   "id": "4dddc5d5",
   "metadata": {},
   "outputs": [],
   "source": [
    "from sklearn.linear_model import Ridge\n",
    "\n",
    "list_alpha=[0, 0.01, 0.1, 1, 10]\n",
    "\n",
    "train_dicts=df_train[categorical+numerical].to_dict(orient='records')\n",
    "val_dicts=df_val[categorical+numerical].to_dict(orient='records')\n",
    "\n",
    "X_train=dv.fit_transform(train_dicts)\n",
    "X_val=dv.fit_transform(val_dicts)\n",
    "\n",
    "log_train=np.log1p(y_train)\n",
    "log_val=np.log1p(y_val)\n",
    "\n",
    "def rmse(y,yhat):\n",
    "    sum_square=(y-yhat)**2\n",
    "    return sum_square.mean()\n",
    "\n",
    "list_rmse=[]\n",
    "\n",
    "for alpha in list_alpha:\n",
    "    \n",
    "    model=Ridge(alpha=alpha)\n",
    "    model.fit(X_train,log_train)\n",
    "    \n",
    "    y_pred=model.predict(X_val)\n",
    "    rmse_now=round( rmse(log_val,y_pred) ,3 )\n",
    "    \n",
    "    list_rmse.append(rmse_now)\n",
    "    \n",
    "    \n",
    "    \n",
    "    "
   ]
  },
  {
   "cell_type": "code",
   "execution_count": 43,
   "id": "c0936ca4",
   "metadata": {},
   "outputs": [
    {
     "data": {
      "text/plain": [
       "0"
      ]
     },
     "execution_count": 43,
     "metadata": {},
     "output_type": "execute_result"
    }
   ],
   "source": [
    "list_alpha[np.array(list_rmse).argmin()]"
   ]
  },
  {
   "cell_type": "code",
   "execution_count": null,
   "id": "fee41d80",
   "metadata": {},
   "outputs": [],
   "source": []
  }
 ],
 "metadata": {
  "kernelspec": {
   "display_name": "Python 3 (ipykernel)",
   "language": "python",
   "name": "python3"
  },
  "language_info": {
   "codemirror_mode": {
    "name": "ipython",
    "version": 3
   },
   "file_extension": ".py",
   "mimetype": "text/x-python",
   "name": "python",
   "nbconvert_exporter": "python",
   "pygments_lexer": "ipython3",
   "version": "3.8.11"
  }
 },
 "nbformat": 4,
 "nbformat_minor": 5
}
