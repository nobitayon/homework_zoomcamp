{
 "cells": [
  {
   "cell_type": "code",
   "execution_count": 5,
   "id": "7cbd683c",
   "metadata": {},
   "outputs": [],
   "source": [
    "import os\n",
    "import shutil"
   ]
  },
  {
   "cell_type": "code",
   "execution_count": 4,
   "id": "508bbf6c",
   "metadata": {},
   "outputs": [
    {
     "data": {
      "text/plain": [
       "'C:\\\\Users\\\\asus\\\\zoomcamp\\\\homework-week8'"
      ]
     },
     "execution_count": 4,
     "metadata": {},
     "output_type": "execute_result"
    }
   ],
   "source": [
    "os.getcwd()"
   ]
  },
  {
   "cell_type": "code",
   "execution_count": 21,
   "id": "731debd3",
   "metadata": {},
   "outputs": [],
   "source": [
    "source = os.listdir(os.path.join( os.getcwd() ,\"train\" ,\"train\" ))\n",
    "\n",
    "dest_dog_train = os.path.join( os.getcwd() ,\"train\" ,\"dogs\" )\n",
    "dest_cat_train = os.path.join( os.getcwd() ,\"train\" ,\"cats\" )\n",
    "\n",
    "dest_dog_val = os.path.join( os.getcwd() ,\"validation\" ,\"dogs\" )\n",
    "dest_cat_val = os.path.join( os.getcwd() ,\"validation\" ,\"cats\" )\n",
    "\n",
    "\n",
    "for files in source:\n",
    "    full_files = os.path.join(os.getcwd(),\"train\",\"train\",files)\n",
    "    if(files[:3]=='cat'):\n",
    "        num = int(files[4:len(files)-4])\n",
    "        if(num<=9999):\n",
    "            shutil.copy(full_files,dest_cat_train)\n",
    "        else:\n",
    "            shutil.copy(full_files,dest_cat_val)\n",
    "    else:\n",
    "        num = int(files[4:len(files)-4])\n",
    "        if(num<=9999):\n",
    "            shutil.copy(full_files,dest_dog_train)\n",
    "        else:\n",
    "            shutil.copy(full_files,dest_dog_val)\n",
    "        \n",
    "\n",
    "\n"
   ]
  }
 ],
 "metadata": {
  "kernelspec": {
   "display_name": "Python 3 (ipykernel)",
   "language": "python",
   "name": "python3"
  },
  "language_info": {
   "codemirror_mode": {
    "name": "ipython",
    "version": 3
   },
   "file_extension": ".py",
   "mimetype": "text/x-python",
   "name": "python",
   "nbconvert_exporter": "python",
   "pygments_lexer": "ipython3",
   "version": "3.8.11"
  },
  "toc": {
   "base_numbering": 1,
   "nav_menu": {},
   "number_sections": true,
   "sideBar": true,
   "skip_h1_title": false,
   "title_cell": "Table of Contents",
   "title_sidebar": "Contents",
   "toc_cell": false,
   "toc_position": {},
   "toc_section_display": true,
   "toc_window_display": false
  }
 },
 "nbformat": 4,
 "nbformat_minor": 5
}
