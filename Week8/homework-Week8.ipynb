{
 "cells": [
  {
   "cell_type": "code",
   "execution_count": 1,
   "id": "ba9604d6",
   "metadata": {},
   "outputs": [],
   "source": [
    "import numpy as np\n",
    "import matplotlib.pyplot as plt\n",
    "import tensorflow as tf\n",
    "from tensorflow import keras\n",
    "from tensorflow.keras.preprocessing.image import load_img\n",
    "\n",
    "from tensorflow.keras.applications.xception import Xception\n",
    "from tensorflow.keras.applications.xception import preprocess_input\n",
    "from tensorflow.keras.applications.xception import decode_predictions\n",
    "\n",
    "from tensorflow.keras.preprocessing.image import ImageDataGenerator"
   ]
  },
  {
   "cell_type": "code",
   "execution_count": 2,
   "id": "a17f7805",
   "metadata": {},
   "outputs": [],
   "source": [
    "def make_model():\n",
    "\n",
    "    \"\"\"Beginning of create Architecture\"\"\"\n",
    "\n",
    "    # specify the input\n",
    "    inputs = tf.keras.Input(shape=(150,150,3))\n",
    "    \n",
    "    # specify convolutional layer \n",
    "    conv_layer = tf.keras.layers.Conv2D(filters=32,kernel_size = (3,3), activation= 'relu')\n",
    "\n",
    "    # input goes to base model\n",
    "    feature_map =conv_layer(inputs)\n",
    "\n",
    "    # reduce the size of feature map with max pooling\n",
    "    multi_vectors = tf.keras.layers.MaxPooling2D(pool_size = (2,2))(feature_map)\n",
    "    \n",
    "    # turn the multi-dimensional result into vectors\n",
    "    vectors = tf.keras.layers.Flatten()(multi_vectors)\n",
    " \n",
    "    # dense layer\n",
    "    \n",
    "    # dense layer with 64 neurons and relu activation\n",
    "    layer1 = tf.keras.layers.Dense(64,activation='relu')(vectors)\n",
    "    \n",
    "    # output layer with 1 neuron and sigmoid activation\n",
    "    output = tf.keras.layers.Dense(1,activation='sigmoid')(layer1)\n",
    "    \n",
    "    model=tf.keras.Model(inputs,output)\n",
    "    \n",
    "    \"\"\"End of create architecture\"\"\"\n",
    "   \n",
    "    \"\"\"\n",
    "    optimizer\n",
    "    \"\"\"\n",
    "    \n",
    "    # SGD \n",
    "    optimizer = tf.keras.optimizers.SGD(learning_rate  = 0.002 , momentum = 0.8)\n",
    "\n",
    "    loss = tf.keras.losses.BinaryCrossentropy(from_logits = False)\n",
    "    \n",
    "    model.compile(optimizer=optimizer,\n",
    "                  loss=loss,\n",
    "                  metrics=['accuracy'])\n",
    "    \n",
    "    return model"
   ]
  },
  {
   "cell_type": "markdown",
   "id": "1bd70110",
   "metadata": {},
   "source": [
    "## Question 1"
   ]
  },
  {
   "cell_type": "markdown",
   "id": "2c8f5461",
   "metadata": {},
   "source": [
    "answer : sigmoid"
   ]
  },
  {
   "cell_type": "markdown",
   "id": "bc3a07ad",
   "metadata": {},
   "source": [
    "## Question 2"
   ]
  },
  {
   "cell_type": "code",
   "execution_count": 3,
   "id": "8d60cad5",
   "metadata": {},
   "outputs": [
    {
     "name": "stdout",
     "output_type": "stream",
     "text": [
      "Model: \"functional_1\"\n",
      "_________________________________________________________________\n",
      "Layer (type)                 Output Shape              Param #   \n",
      "=================================================================\n",
      "input_1 (InputLayer)         [(None, 150, 150, 3)]     0         \n",
      "_________________________________________________________________\n",
      "conv2d (Conv2D)              (None, 148, 148, 32)      896       \n",
      "_________________________________________________________________\n",
      "max_pooling2d (MaxPooling2D) (None, 74, 74, 32)        0         \n",
      "_________________________________________________________________\n",
      "flatten (Flatten)            (None, 175232)            0         \n",
      "_________________________________________________________________\n",
      "dense (Dense)                (None, 64)                11214912  \n",
      "_________________________________________________________________\n",
      "dense_1 (Dense)              (None, 1)                 65        \n",
      "=================================================================\n",
      "Total params: 11,215,873\n",
      "Trainable params: 11,215,873\n",
      "Non-trainable params: 0\n",
      "_________________________________________________________________\n"
     ]
    }
   ],
   "source": [
    "model = make_model()\n",
    "model.summary()"
   ]
  },
  {
   "cell_type": "markdown",
   "id": "9b0c3e40",
   "metadata": {},
   "source": [
    "## Generators and training"
   ]
  },
  {
   "cell_type": "code",
   "execution_count": 4,
   "id": "c4e85c96",
   "metadata": {},
   "outputs": [
    {
     "name": "stdout",
     "output_type": "stream",
     "text": [
      "Found 20000 images belonging to 2 classes.\n",
      "Found 5000 images belonging to 2 classes.\n"
     ]
    }
   ],
   "source": [
    "train_gen = ImageDataGenerator(\n",
    "    rescale=1./255\n",
    ")\n",
    "\n",
    "train_ds = train_gen.flow_from_directory(\n",
    "    './train/',\n",
    "    target_size = (150,150),\n",
    "    batch_size = 20,\n",
    "    class_mode = 'binary',\n",
    "    shuffle = True\n",
    ")\n",
    "\n",
    "val_gen = ImageDataGenerator(\n",
    "    rescale=1./255\n",
    ")\n",
    "\n",
    "val_ds = val_gen.flow_from_directory(\n",
    "    './validation',\n",
    "    target_size = (150,150),\n",
    "    batch_size = 20,\n",
    "    class_mode = 'binary',\n",
    "    shuffle = True\n",
    ")\n",
    "\n"
   ]
  },
  {
   "cell_type": "markdown",
   "id": "6ce337d5",
   "metadata": {},
   "source": [
    "## Fit the model"
   ]
  },
  {
   "cell_type": "code",
   "execution_count": 5,
   "id": "8caa9b5b",
   "metadata": {},
   "outputs": [
    {
     "name": "stdout",
     "output_type": "stream",
     "text": [
      "Epoch 1/10\n",
      "100/100 [==============================] - 17s 173ms/step - loss: 0.7017 - accuracy: 0.5100 - val_loss: 0.6939 - val_accuracy: 0.4820\n",
      "Epoch 2/10\n",
      "100/100 [==============================] - 22s 223ms/step - loss: 0.6922 - accuracy: 0.5080 - val_loss: 0.6890 - val_accuracy: 0.5420\n",
      "Epoch 3/10\n",
      "100/100 [==============================] - 22s 223ms/step - loss: 0.6887 - accuracy: 0.5445 - val_loss: 0.6883 - val_accuracy: 0.5460\n",
      "Epoch 4/10\n",
      "100/100 [==============================] - 24s 242ms/step - loss: 0.6846 - accuracy: 0.5595 - val_loss: 0.6796 - val_accuracy: 0.5830\n",
      "Epoch 5/10\n",
      "100/100 [==============================] - 29s 294ms/step - loss: 0.6770 - accuracy: 0.5680 - val_loss: 0.6704 - val_accuracy: 0.5870\n",
      "Epoch 6/10\n",
      "100/100 [==============================] - 42s 421ms/step - loss: 0.6809 - accuracy: 0.5500 - val_loss: 0.6715 - val_accuracy: 0.6020\n",
      "Epoch 7/10\n",
      "100/100 [==============================] - 52s 520ms/step - loss: 0.6723 - accuracy: 0.5795 - val_loss: 0.6680 - val_accuracy: 0.5860\n",
      "Epoch 8/10\n",
      "100/100 [==============================] - 49s 486ms/step - loss: 0.6610 - accuracy: 0.6040 - val_loss: 0.6477 - val_accuracy: 0.6230\n",
      "Epoch 9/10\n",
      "100/100 [==============================] - 49s 493ms/step - loss: 0.6635 - accuracy: 0.6050 - val_loss: 0.6508 - val_accuracy: 0.6210\n",
      "Epoch 10/10\n",
      "100/100 [==============================] - 48s 481ms/step - loss: 0.6567 - accuracy: 0.5985 - val_loss: 0.6567 - val_accuracy: 0.5990\n"
     ]
    }
   ],
   "source": [
    "history = model.fit(\n",
    "    train_ds,\n",
    "    steps_per_epoch=100,\n",
    "    epochs=10,\n",
    "    validation_data=val_ds,\n",
    "    validation_steps=50\n",
    ")"
   ]
  },
  {
   "cell_type": "markdown",
   "id": "2d220595",
   "metadata": {},
   "source": [
    "## Question 3"
   ]
  },
  {
   "cell_type": "code",
   "execution_count": 7,
   "id": "e9ae7ac6",
   "metadata": {},
   "outputs": [
    {
     "data": {
      "text/plain": [
       "0.5637499988079071"
      ]
     },
     "execution_count": 7,
     "metadata": {},
     "output_type": "execute_result"
    }
   ],
   "source": [
    "np.median( history.history['accuracy'] )"
   ]
  },
  {
   "cell_type": "markdown",
   "id": "ba25328a",
   "metadata": {},
   "source": [
    "## Question 4"
   ]
  },
  {
   "cell_type": "code",
   "execution_count": 8,
   "id": "0c8cb7d2",
   "metadata": {},
   "outputs": [
    {
     "data": {
      "text/plain": [
       "0.013834974933050796"
      ]
     },
     "execution_count": 8,
     "metadata": {},
     "output_type": "execute_result"
    }
   ],
   "source": [
    "np.std(history.history['loss'] )"
   ]
  },
  {
   "cell_type": "markdown",
   "id": "5d83a08a",
   "metadata": {},
   "source": [
    "## Data augmentation"
   ]
  },
  {
   "cell_type": "code",
   "execution_count": 9,
   "id": "9acc0c04",
   "metadata": {},
   "outputs": [
    {
     "name": "stdout",
     "output_type": "stream",
     "text": [
      "Found 20000 images belonging to 2 classes.\n",
      "Found 5000 images belonging to 2 classes.\n"
     ]
    }
   ],
   "source": [
    "train_gen = ImageDataGenerator(\n",
    "    rescale=1./255,\n",
    "    rotation_range=40,\n",
    "    width_shift_range=0.2,\n",
    "    height_shift_range=0.2,\n",
    "    shear_range=0.2,\n",
    "    zoom_range=0.2,\n",
    "    horizontal_flip=True,\n",
    "    fill_mode='nearest'\n",
    ")\n",
    "\n",
    "train_ds = train_gen.flow_from_directory(\n",
    "    './train/',\n",
    "    target_size = (150,150),\n",
    "    batch_size = 20,\n",
    "    class_mode = 'binary',\n",
    "    shuffle = True\n",
    ")\n",
    "\n",
    "val_gen = ImageDataGenerator(\n",
    "    rescale=1./255\n",
    ")\n",
    "\n",
    "val_ds = val_gen.flow_from_directory(\n",
    "    './validation',\n",
    "    target_size = (150,150),\n",
    "    batch_size = 20,\n",
    "    class_mode = 'binary',\n",
    "    shuffle = True\n",
    ")\n",
    "\n"
   ]
  },
  {
   "cell_type": "code",
   "execution_count": 10,
   "id": "d6dc0731",
   "metadata": {},
   "outputs": [
    {
     "name": "stdout",
     "output_type": "stream",
     "text": [
      "Epoch 1/10\n",
      "100/100 [==============================] - 21s 214ms/step - loss: 0.6716 - accuracy: 0.5915 - val_loss: 0.6580 - val_accuracy: 0.6000\n",
      "Epoch 2/10\n",
      "100/100 [==============================] - 28s 285ms/step - loss: 0.6719 - accuracy: 0.5800 - val_loss: 0.6526 - val_accuracy: 0.5890\n",
      "Epoch 3/10\n",
      "100/100 [==============================] - 31s 312ms/step - loss: 0.6790 - accuracy: 0.5500 - val_loss: 0.6435 - val_accuracy: 0.6280\n",
      "Epoch 4/10\n",
      "100/100 [==============================] - 35s 346ms/step - loss: 0.6652 - accuracy: 0.5975 - val_loss: 0.6681 - val_accuracy: 0.5560\n",
      "Epoch 5/10\n",
      "100/100 [==============================] - 45s 448ms/step - loss: 0.6632 - accuracy: 0.5850 - val_loss: 0.6394 - val_accuracy: 0.6460\n",
      "Epoch 6/10\n",
      "100/100 [==============================] - 62s 615ms/step - loss: 0.6655 - accuracy: 0.5915 - val_loss: 0.6377 - val_accuracy: 0.6200\n",
      "Epoch 7/10\n",
      "100/100 [==============================] - 55s 555ms/step - loss: 0.6636 - accuracy: 0.5800 - val_loss: 0.6253 - val_accuracy: 0.6510\n",
      "Epoch 8/10\n",
      "100/100 [==============================] - 62s 618ms/step - loss: 0.6642 - accuracy: 0.5875 - val_loss: 0.6419 - val_accuracy: 0.6210\n",
      "Epoch 9/10\n",
      "100/100 [==============================] - 61s 606ms/step - loss: 0.6580 - accuracy: 0.5970 - val_loss: 0.6457 - val_accuracy: 0.6100\n",
      "Epoch 10/10\n",
      "100/100 [==============================] - 59s 587ms/step - loss: 0.6619 - accuracy: 0.5760 - val_loss: 0.6692 - val_accuracy: 0.5710\n"
     ]
    }
   ],
   "source": [
    "history = model.fit(\n",
    "    train_ds,\n",
    "    steps_per_epoch=100,\n",
    "    epochs=10,\n",
    "    validation_data=val_ds,\n",
    "    validation_steps=50\n",
    ")"
   ]
  },
  {
   "cell_type": "markdown",
   "id": "9b4b2d20",
   "metadata": {},
   "source": [
    "## Question 5"
   ]
  },
  {
   "cell_type": "code",
   "execution_count": 11,
   "id": "af1667df",
   "metadata": {},
   "outputs": [
    {
     "data": {
      "text/plain": [
       "0.64813791513443"
      ]
     },
     "execution_count": 11,
     "metadata": {},
     "output_type": "execute_result"
    }
   ],
   "source": [
    "np.mean(history.history['val_loss'] )"
   ]
  },
  {
   "cell_type": "markdown",
   "id": "2a779914",
   "metadata": {},
   "source": [
    "## Question 6"
   ]
  },
  {
   "cell_type": "code",
   "execution_count": 16,
   "id": "6168bb62",
   "metadata": {},
   "outputs": [
    {
     "data": {
      "text/plain": [
       "0.6146000027656555"
      ]
     },
     "execution_count": 16,
     "metadata": {},
     "output_type": "execute_result"
    }
   ],
   "source": [
    "np.mean(history.history['val_accuracy'][5:])"
   ]
  },
  {
   "cell_type": "code",
   "execution_count": null,
   "id": "ec817b51",
   "metadata": {},
   "outputs": [],
   "source": []
  }
 ],
 "metadata": {
  "kernelspec": {
   "display_name": "Python 3 (ipykernel)",
   "language": "python",
   "name": "python3"
  },
  "language_info": {
   "codemirror_mode": {
    "name": "ipython",
    "version": 3
   },
   "file_extension": ".py",
   "mimetype": "text/x-python",
   "name": "python",
   "nbconvert_exporter": "python",
   "pygments_lexer": "ipython3",
   "version": "3.8.11"
  },
  "toc": {
   "base_numbering": 1,
   "nav_menu": {},
   "number_sections": false,
   "sideBar": true,
   "skip_h1_title": false,
   "title_cell": "Table of Contents",
   "title_sidebar": "Contents",
   "toc_cell": false,
   "toc_position": {},
   "toc_section_display": true,
   "toc_window_display": false
  }
 },
 "nbformat": 4,
 "nbformat_minor": 5
}
