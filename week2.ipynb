{
 "cells": [
  {
   "cell_type": "code",
   "execution_count": 22,
   "id": "4e18e709",
   "metadata": {},
   "outputs": [],
   "source": [
    "import pandas as pd\n",
    "import numpy as np\n",
    "import seaborn as sns\n",
    "import matplotlib.pyplot as plt"
   ]
  },
  {
   "cell_type": "code",
   "execution_count": 23,
   "id": "39914e0c",
   "metadata": {},
   "outputs": [],
   "source": [
    "df=pd.read_csv('AB_NYC_2019.csv')"
   ]
  },
  {
   "cell_type": "code",
   "execution_count": 32,
   "id": "552761bc",
   "metadata": {},
   "outputs": [
    {
     "data": {
      "image/png": "[encoded data removed]",
      "text/plain": [
       "<Figure size 720x360 with 2 Axes>"
      ]
     },
     "metadata": {
      "needs_background": "light"
     },
     "output_type": "display_data"
    }
   ],
   "source": [
    "#EDA\n",
    "\n",
    "fig, axes = plt.subplots(1, 2, figsize=(10, 5))\n",
    "\n",
    "\n",
    "sns.histplot(df.price,ax=axes[0],bins=100)\n",
    "axes[0].set_title('Distribution of price');\n",
    "\n",
    "sns.histplot(np.log1p( df.price ),ax=axes[1],bins=100)\n",
    "axes[1].set_title('Distribution of price after logarithm');\n",
    "\n",
    "plt.tight_layout()"
   ]
  },
  {
   "cell_type": "code",
   "execution_count": 33,
   "id": "7a63ec3e",
   "metadata": {},
   "outputs": [
    {
     "data": {
      "text/plain": [
       "latitude                              0\n",
       "longitude                             0\n",
       "price                                 0\n",
       "minimum_nights                        0\n",
       "number_of_reviews                     0\n",
       "reviews_per_month                 10052\n",
       "calculated_host_listings_count        0\n",
       "availability_365                      0\n",
       "dtype: int64"
      ]
     },
     "execution_count": 33,
     "metadata": {},
     "output_type": "execute_result"
    }
   ],
   "source": [
    "#Question 1\n",
    "base=['latitude','longitude','price','minimum_nights','number_of_reviews','reviews_per_month','calculated_host_listings_count','availability_365']\n",
    "df[base].isnull().sum()"
   ]
  },
  {
   "cell_type": "code",
   "execution_count": 34,
   "id": "30421e9f",
   "metadata": {},
   "outputs": [
    {
     "data": {
      "text/plain": [
       "count    48895.000000\n",
       "mean         7.029962\n",
       "std         20.510550\n",
       "min          1.000000\n",
       "25%          1.000000\n",
       "50%          3.000000\n",
       "75%          5.000000\n",
       "max       1250.000000\n",
       "Name: minimum_nights, dtype: float64"
      ]
     },
     "execution_count": 34,
     "metadata": {},
     "output_type": "execute_result"
    }
   ],
   "source": [
    "#Question 2\n",
    "df['minimum_nights'].describe()"
   ]
  },
  {
   "cell_type": "code",
   "execution_count": 35,
   "id": "3bf22e8b",
   "metadata": {},
   "outputs": [],
   "source": [
    "#split the data for question 3\n",
    "\n",
    "np.random.seed(42)\n",
    "\n",
    "n=len(df)\n",
    "idx=np.arange(n)\n",
    "np.random.shuffle(idx)\n",
    "\n",
    "n_val=int( n*0.2 )\n",
    "n_test=int(n*0.2)\n",
    "n_train=n-n_val-n_test\n",
    "\n",
    "y=df.price\n",
    "y=np.log1p(y)\n",
    "\n",
    "\n",
    "\n",
    "df_train=df.iloc[idx[:n_train] ]\n",
    "df_val=df.iloc[idx[n_train:n_train+n_val] ]\n",
    "df_test=df.iloc[idx[n_train+n_val:]]\n",
    "\n",
    "y_train=y.iloc[idx[:n_train]]\n",
    "y_val=y.iloc[idx[n_train:n_train+n_val] ]\n",
    "y_test=y.iloc[idx[n_train+n_val:]]\n",
    "\n",
    "df_train=df_train.reset_index(drop=True)\n",
    "df_val=df_val.reset_index(drop=True)\n",
    "df_test=df_test.reset_index(drop=True)"
   ]
  },
  {
   "cell_type": "code",
   "execution_count": 36,
   "id": "b25b0cb9",
   "metadata": {},
   "outputs": [],
   "source": [
    "base=['latitude','longitude','price','minimum_nights','number_of_reviews','reviews_per_month','calculated_host_listings_count','availability_365']"
   ]
  },
  {
   "cell_type": "code",
   "execution_count": 37,
   "id": "8ad61a7f",
   "metadata": {},
   "outputs": [],
   "source": [
    "def train_linear_regression(X,y):\n",
    "    ones=np.ones(X.shape[0])\n",
    "    X=np.column_stack([ones,X])\n",
    "    \n",
    "    XTX=X.T.dot(X)\n",
    "    XTX_inv=np.linalg.inv(XTX)\n",
    "    w_full=XTX_inv.dot(X.T).dot(y)\n",
    "    return w_full[0],w_full[1:]\n",
    "\n",
    "def rmse(y,y_pred):\n",
    "    se=(y-y_pred)**2\n",
    "    mse=se.mean()\n",
    "    return np.sqrt(mse)"
   ]
  },
  {
   "cell_type": "code",
   "execution_count": 38,
   "id": "033b9ddf",
   "metadata": {},
   "outputs": [
    {
     "data": {
      "text/plain": [
       "0.51"
      ]
     },
     "execution_count": 38,
     "metadata": {},
     "output_type": "execute_result"
    }
   ],
   "source": [
    "#Question 3\n",
    "\n",
    "#fill missing values with 0\n",
    "\n",
    "def prepare_X_fillzero(df,base_1):\n",
    "    df=df.copy()\n",
    "    df_num=df[base_1]\n",
    "    df_num=df_num.fillna(0)\n",
    "    X=df_num.values\n",
    "    return X\n",
    "\n",
    "X_train=prepare_X_fillzero(df_train,base)\n",
    "w0,w=train_linear_regression(X_train,y_train)\n",
    "\n",
    "X_val=prepare_X_fillzero(df_val,base)\n",
    "y_pred=w0+X_val.dot(w)\n",
    "score=rmse(y_val,y_pred)\n",
    "round(score,2)\n"
   ]
  },
  {
   "cell_type": "code",
   "execution_count": 40,
   "id": "bfb13176",
   "metadata": {},
   "outputs": [
    {
     "data": {
      "text/plain": [
       "0.51"
      ]
     },
     "execution_count": 40,
     "metadata": {},
     "output_type": "execute_result"
    }
   ],
   "source": [
    "#Question 3\n",
    "\n",
    "#fill missing values with mean\n",
    "\n",
    "def prepare_X_fillmean(df,base_1):\n",
    "    df=df.copy()\n",
    "    df_num=df[base_1]\n",
    "    for i in base_1:\n",
    "        mean_i=df[i].mean()\n",
    "        df_num.loc[:,i]=df_num.loc[:,i].fillna(mean_i)\n",
    "    X=df_num.values\n",
    "    return X\n",
    "\n",
    "X_train=prepare_X_fillmean(df_train,base)\n",
    "w0,w=train_linear_regression(X_train,y_train)\n",
    "\n",
    "X_val=prepare_X_fillmean(df_val,base)\n",
    "y_pred=w0+X_val.dot(w)\n",
    "score=rmse(y_val,y_pred)\n",
    "round(score,2)\n"
   ]
  },
  {
   "cell_type": "code",
   "execution_count": 41,
   "id": "d86face5",
   "metadata": {},
   "outputs": [],
   "source": [
    "def train_linear_regression_reg(X,y,r=0.001):\n",
    "    ones=np.ones(X.shape[0])\n",
    "    X=np.column_stack([ones,X])\n",
    "    \n",
    "    XTX=X.T.dot(X)\n",
    "    XTX=XTX+ r* np.eye(XTX.shape[0])\n",
    "    \n",
    "    XTX_inv=np.linalg.inv(XTX)\n",
    "    w_full=XTX_inv.dot(X.T).dot(y)\n",
    "    \n",
    "    return w_full[0],w_full[1:]"
   ]
  },
  {
   "cell_type": "code",
   "execution_count": 42,
   "id": "bfd28aa9",
   "metadata": {},
   "outputs": [
    {
     "data": {
      "text/plain": [
       "0"
      ]
     },
     "execution_count": 42,
     "metadata": {},
     "output_type": "execute_result"
    }
   ],
   "source": [
    "#Question 4\n",
    "X_train=prepare_X_fillzero(df_train,base)\n",
    "\n",
    "list_rmse=[]\n",
    "list_r=[0, 0.000001, 0.0001, 0.001, 0.01, 0.1, 1, 5, 10]\n",
    "for r in list_r:\n",
    "    w0,w=train_linear_regression_reg(X_train,y_train,r)\n",
    "    \n",
    "    X_val=prepare_X_fillmean(df_val,base)\n",
    "    y_pred=w0+X_val.dot(w)\n",
    "    score=rmse(y_val,y_pred)\n",
    "    \n",
    "    list_rmse.append(score)\n",
    "    \n",
    "array_rmse=np.array(list_rmse)\n",
    "\n",
    "list_r[ np.argmin(array_rmse) ]"
   ]
  },
  {
   "cell_type": "code",
   "execution_count": 43,
   "id": "1c049a15",
   "metadata": {},
   "outputs": [
    {
     "data": {
      "text/plain": [
       "0.024"
      ]
     },
     "execution_count": 43,
     "metadata": {},
     "output_type": "execute_result"
    }
   ],
   "source": [
    "#Question 5\n",
    "array_seed=np.array([0, 1, 2, 3, 4, 5, 6, 7, 8, 9])\n",
    "\n",
    "list_score=[]\n",
    "for i in array_seed:\n",
    "    np.random.seed(i)\n",
    "\n",
    "    n=len(df)\n",
    "    idx=np.arange(n)\n",
    "    np.random.shuffle(idx)\n",
    "\n",
    "    n_val=int( n*0.2 )\n",
    "    n_test=int(n*0.2)\n",
    "    n_train=n-n_val-n_test\n",
    "\n",
    "    df_train=df.iloc[idx[:n_train] ]\n",
    "    df_val=df.iloc[idx[n_train:n_train+n_val] ]\n",
    "    df_test=df.iloc[idx[n_train+n_val:]]\n",
    "\n",
    "    y_train=y.iloc[idx[:n_train]]\n",
    "    y_val=y.iloc[idx[n_train:n_train+n_val] ]\n",
    "    y_test=y.iloc[idx[n_train+n_val:]]\n",
    "\n",
    "    df_train=df_train.reset_index(drop=True)\n",
    "    df_val=df_val.reset_index(drop=True)\n",
    "    df_test=df_test.reset_index(drop=True)\n",
    "    \n",
    "    X_train=prepare_X_fillzero(df_train,base)\n",
    "    w0,w=train_linear_regression(X_train,y_train)\n",
    "    \n",
    "    X_val=prepare_X_fillzero(df_val,base)\n",
    "    y_pred=w0+X_val.dot(w)\n",
    "    \n",
    "    score=rmse(y_val,y_pred)\n",
    "    list_score.append(score)\n",
    "\n",
    "array_score=np.array(list_score)\n",
    "round( np.std(array_score)  ,3 )"
   ]
  },
  {
   "cell_type": "code",
   "execution_count": 47,
   "id": "12a31eba",
   "metadata": {},
   "outputs": [
    {
     "data": {
      "text/plain": [
       "0.5196670852130616"
      ]
     },
     "execution_count": 47,
     "metadata": {},
     "output_type": "execute_result"
    }
   ],
   "source": [
    "#Question 6\n",
    "\n",
    "np.random.seed(9)\n",
    "\n",
    "n=len(df)\n",
    "idx=np.arange(n)\n",
    "np.random.shuffle(idx)\n",
    "\n",
    "n_val=int( n*0.2 )\n",
    "n_test=int(n*0.2)\n",
    "n_train=n-n_val-n_test\n",
    "\n",
    "y=df.price\n",
    "y=np.log1p(y)\n",
    "# del df['price']\n",
    "\n",
    "\n",
    "df_train=df.iloc[idx[:n_train] ]\n",
    "df_val=df.iloc[idx[n_train:n_train+n_val] ]\n",
    "df_test=df.iloc[idx[n_train+n_val:]]\n",
    "\n",
    "y_train=y.iloc[idx[:n_train]]\n",
    "y_val=y.iloc[idx[n_train:n_train+n_val] ]\n",
    "y_test=y.iloc[idx[n_train+n_val:]]\n",
    "\n",
    "df_train=df_train.reset_index(drop=True)\n",
    "df_val=df_val.reset_index(drop=True)\n",
    "df_test=df_test.reset_index(drop=True)\n",
    "\n",
    "df_full_train=pd.concat([df_train,df_val])\n",
    "X_full_train=prepare_X_fillzero(df_full_train,base)\n",
    "y_full_train=np.concatenate([y_train,y_val])\n",
    "w0,w=train_linear_regression_reg(X_full_train,y_full_train,r=0.001)\n",
    "\n",
    "X_test=prepare_X_fillzero(df_test,base)\n",
    "y_pred=w0+X_test.dot(w)\n",
    "\n",
    "rmse(y_test,y_pred)"
   ]
  }
 ],
 "metadata": {
  "kernelspec": {
   "display_name": "Python 3 (ipykernel)",
   "language": "python",
   "name": "python3"
  },
  "language_info": {
   "codemirror_mode": {
    "name": "ipython",
    "version": 3
   },
   "file_extension": ".py",
   "mimetype": "text/x-python",
   "name": "python",
   "nbconvert_exporter": "python",
   "pygments_lexer": "ipython3",
   "version": "3.8.11"
  }
 },
 "nbformat": 4,
 "nbformat_minor": 5
}
